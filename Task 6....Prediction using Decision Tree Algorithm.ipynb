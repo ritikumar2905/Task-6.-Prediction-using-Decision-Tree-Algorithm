{
 "cells": [
  {
   "cell_type": "markdown",
   "id": "26a4f25b",
   "metadata": {},
   "source": [
    "# Coder:-  Chandra Vijay Kumawat\n",
    "\n"
   ]
  },
  {
   "cell_type": "markdown",
   "id": "ae21c8f5",
   "metadata": {},
   "source": [
    "## Task 6.   Prediction using Decision Tree Algorithm\n",
    "\n",
    "### Problem Statement:\n",
    "        ● Create the Decision Tree classifier and visualize it graphically.\n",
    "\n",
    "        ● The purpose is if we feed any new data to this classifier, it would be able to predict the right class accordingly\n",
    "\n",
    "          Dataset : https://bit.ly/3kXTdox\n",
    "          \n",
    "####                  Task completed during Data Science & Analytics Internship @The Sparks Foundation\n"
   ]
  },
  {
   "cell_type": "markdown",
   "id": "b1f2623d",
   "metadata": {},
   "source": [
    "###  Importing the libraries"
   ]
  },
  {
   "cell_type": "code",
   "execution_count": 2,
   "id": "4a254a62",
   "metadata": {},
   "outputs": [],
   "source": [
    "import numpy as np\n",
    "import matplotlib.pyplot as plt\n",
    "import pandas as pd"
   ]
  },
  {
   "cell_type": "markdown",
   "id": "af34ba4c",
   "metadata": {},
   "source": [
    "### Importing dataset"
   ]
  },
  {
   "cell_type": "code",
   "execution_count": 3,
   "id": "6ae050e7",
   "metadata": {},
   "outputs": [],
   "source": [
    "df=pd.read_csv(\"C:/Users/ChandraKumawat/Desktop/Spark foundation/Iris.csv\")"
   ]
  },
  {
   "cell_type": "code",
   "execution_count": 4,
   "id": "9ac37121",
   "metadata": {},
   "outputs": [
    {
     "data": {
      "text/html": [
       "<div>\n",
       "<style scoped>\n",
       "    .dataframe tbody tr th:only-of-type {\n",
       "        vertical-align: middle;\n",
       "    }\n",
       "\n",
       "    .dataframe tbody tr th {\n",
       "        vertical-align: top;\n",
       "    }\n",
       "\n",
       "    .dataframe thead th {\n",
       "        text-align: right;\n",
       "    }\n",
       "</style>\n",
       "<table border=\"1\" class=\"dataframe\">\n",
       "  <thead>\n",
       "    <tr style=\"text-align: right;\">\n",
       "      <th></th>\n",
       "      <th>Id</th>\n",
       "      <th>SepalLengthCm</th>\n",
       "      <th>SepalWidthCm</th>\n",
       "      <th>PetalLengthCm</th>\n",
       "      <th>PetalWidthCm</th>\n",
       "      <th>Species</th>\n",
       "    </tr>\n",
       "  </thead>\n",
       "  <tbody>\n",
       "    <tr>\n",
       "      <th>0</th>\n",
       "      <td>1</td>\n",
       "      <td>5.1</td>\n",
       "      <td>3.5</td>\n",
       "      <td>1.4</td>\n",
       "      <td>0.2</td>\n",
       "      <td>Iris-setosa</td>\n",
       "    </tr>\n",
       "    <tr>\n",
       "      <th>1</th>\n",
       "      <td>2</td>\n",
       "      <td>4.9</td>\n",
       "      <td>3.0</td>\n",
       "      <td>1.4</td>\n",
       "      <td>0.2</td>\n",
       "      <td>Iris-setosa</td>\n",
       "    </tr>\n",
       "    <tr>\n",
       "      <th>2</th>\n",
       "      <td>3</td>\n",
       "      <td>4.7</td>\n",
       "      <td>3.2</td>\n",
       "      <td>1.3</td>\n",
       "      <td>0.2</td>\n",
       "      <td>Iris-setosa</td>\n",
       "    </tr>\n",
       "    <tr>\n",
       "      <th>3</th>\n",
       "      <td>4</td>\n",
       "      <td>4.6</td>\n",
       "      <td>3.1</td>\n",
       "      <td>1.5</td>\n",
       "      <td>0.2</td>\n",
       "      <td>Iris-setosa</td>\n",
       "    </tr>\n",
       "    <tr>\n",
       "      <th>4</th>\n",
       "      <td>5</td>\n",
       "      <td>5.0</td>\n",
       "      <td>3.6</td>\n",
       "      <td>1.4</td>\n",
       "      <td>0.2</td>\n",
       "      <td>Iris-setosa</td>\n",
       "    </tr>\n",
       "  </tbody>\n",
       "</table>\n",
       "</div>"
      ],
      "text/plain": [
       "   Id  SepalLengthCm  SepalWidthCm  PetalLengthCm  PetalWidthCm      Species\n",
       "0   1            5.1           3.5            1.4           0.2  Iris-setosa\n",
       "1   2            4.9           3.0            1.4           0.2  Iris-setosa\n",
       "2   3            4.7           3.2            1.3           0.2  Iris-setosa\n",
       "3   4            4.6           3.1            1.5           0.2  Iris-setosa\n",
       "4   5            5.0           3.6            1.4           0.2  Iris-setosa"
      ]
     },
     "execution_count": 4,
     "metadata": {},
     "output_type": "execute_result"
    }
   ],
   "source": [
    "df.head()"
   ]
  },
  {
   "cell_type": "code",
   "execution_count": 5,
   "id": "b0ecce45",
   "metadata": {},
   "outputs": [
    {
     "data": {
      "text/plain": [
       "(150, 6)"
      ]
     },
     "execution_count": 5,
     "metadata": {},
     "output_type": "execute_result"
    }
   ],
   "source": [
    "df.shape"
   ]
  },
  {
   "cell_type": "code",
   "execution_count": 6,
   "id": "05b84c68",
   "metadata": {},
   "outputs": [
    {
     "data": {
      "text/html": [
       "<div>\n",
       "<style scoped>\n",
       "    .dataframe tbody tr th:only-of-type {\n",
       "        vertical-align: middle;\n",
       "    }\n",
       "\n",
       "    .dataframe tbody tr th {\n",
       "        vertical-align: top;\n",
       "    }\n",
       "\n",
       "    .dataframe thead th {\n",
       "        text-align: right;\n",
       "    }\n",
       "</style>\n",
       "<table border=\"1\" class=\"dataframe\">\n",
       "  <thead>\n",
       "    <tr style=\"text-align: right;\">\n",
       "      <th></th>\n",
       "      <th>Id</th>\n",
       "      <th>SepalLengthCm</th>\n",
       "      <th>SepalWidthCm</th>\n",
       "      <th>PetalLengthCm</th>\n",
       "      <th>PetalWidthCm</th>\n",
       "    </tr>\n",
       "  </thead>\n",
       "  <tbody>\n",
       "    <tr>\n",
       "      <th>count</th>\n",
       "      <td>150.000000</td>\n",
       "      <td>150.000000</td>\n",
       "      <td>150.000000</td>\n",
       "      <td>150.000000</td>\n",
       "      <td>150.000000</td>\n",
       "    </tr>\n",
       "    <tr>\n",
       "      <th>mean</th>\n",
       "      <td>75.500000</td>\n",
       "      <td>5.843333</td>\n",
       "      <td>3.054000</td>\n",
       "      <td>3.758667</td>\n",
       "      <td>1.198667</td>\n",
       "    </tr>\n",
       "    <tr>\n",
       "      <th>std</th>\n",
       "      <td>43.445368</td>\n",
       "      <td>0.828066</td>\n",
       "      <td>0.433594</td>\n",
       "      <td>1.764420</td>\n",
       "      <td>0.763161</td>\n",
       "    </tr>\n",
       "    <tr>\n",
       "      <th>min</th>\n",
       "      <td>1.000000</td>\n",
       "      <td>4.300000</td>\n",
       "      <td>2.000000</td>\n",
       "      <td>1.000000</td>\n",
       "      <td>0.100000</td>\n",
       "    </tr>\n",
       "    <tr>\n",
       "      <th>25%</th>\n",
       "      <td>38.250000</td>\n",
       "      <td>5.100000</td>\n",
       "      <td>2.800000</td>\n",
       "      <td>1.600000</td>\n",
       "      <td>0.300000</td>\n",
       "    </tr>\n",
       "    <tr>\n",
       "      <th>50%</th>\n",
       "      <td>75.500000</td>\n",
       "      <td>5.800000</td>\n",
       "      <td>3.000000</td>\n",
       "      <td>4.350000</td>\n",
       "      <td>1.300000</td>\n",
       "    </tr>\n",
       "    <tr>\n",
       "      <th>75%</th>\n",
       "      <td>112.750000</td>\n",
       "      <td>6.400000</td>\n",
       "      <td>3.300000</td>\n",
       "      <td>5.100000</td>\n",
       "      <td>1.800000</td>\n",
       "    </tr>\n",
       "    <tr>\n",
       "      <th>max</th>\n",
       "      <td>150.000000</td>\n",
       "      <td>7.900000</td>\n",
       "      <td>4.400000</td>\n",
       "      <td>6.900000</td>\n",
       "      <td>2.500000</td>\n",
       "    </tr>\n",
       "  </tbody>\n",
       "</table>\n",
       "</div>"
      ],
      "text/plain": [
       "               Id  SepalLengthCm  SepalWidthCm  PetalLengthCm  PetalWidthCm\n",
       "count  150.000000     150.000000    150.000000     150.000000    150.000000\n",
       "mean    75.500000       5.843333      3.054000       3.758667      1.198667\n",
       "std     43.445368       0.828066      0.433594       1.764420      0.763161\n",
       "min      1.000000       4.300000      2.000000       1.000000      0.100000\n",
       "25%     38.250000       5.100000      2.800000       1.600000      0.300000\n",
       "50%     75.500000       5.800000      3.000000       4.350000      1.300000\n",
       "75%    112.750000       6.400000      3.300000       5.100000      1.800000\n",
       "max    150.000000       7.900000      4.400000       6.900000      2.500000"
      ]
     },
     "execution_count": 6,
     "metadata": {},
     "output_type": "execute_result"
    }
   ],
   "source": [
    "df.describe()"
   ]
  },
  {
   "cell_type": "code",
   "execution_count": 7,
   "id": "f4a4c890",
   "metadata": {},
   "outputs": [
    {
     "name": "stdout",
     "output_type": "stream",
     "text": [
      "<class 'pandas.core.frame.DataFrame'>\n",
      "RangeIndex: 150 entries, 0 to 149\n",
      "Data columns (total 6 columns):\n",
      " #   Column         Non-Null Count  Dtype  \n",
      "---  ------         --------------  -----  \n",
      " 0   Id             150 non-null    int64  \n",
      " 1   SepalLengthCm  150 non-null    float64\n",
      " 2   SepalWidthCm   150 non-null    float64\n",
      " 3   PetalLengthCm  150 non-null    float64\n",
      " 4   PetalWidthCm   150 non-null    float64\n",
      " 5   Species        150 non-null    object \n",
      "dtypes: float64(4), int64(1), object(1)\n",
      "memory usage: 7.2+ KB\n"
     ]
    }
   ],
   "source": [
    "df.info()"
   ]
  },
  {
   "cell_type": "code",
   "execution_count": 8,
   "id": "459f62f5",
   "metadata": {},
   "outputs": [
    {
     "data": {
      "text/plain": [
       "Id               0\n",
       "SepalLengthCm    0\n",
       "SepalWidthCm     0\n",
       "PetalLengthCm    0\n",
       "PetalWidthCm     0\n",
       "Species          0\n",
       "dtype: int64"
      ]
     },
     "execution_count": 8,
     "metadata": {},
     "output_type": "execute_result"
    }
   ],
   "source": [
    "df.isnull().sum()"
   ]
  },
  {
   "cell_type": "code",
   "execution_count": 9,
   "id": "9c06e345",
   "metadata": {},
   "outputs": [
    {
     "data": {
      "text/plain": [
       "Id                 int64\n",
       "SepalLengthCm    float64\n",
       "SepalWidthCm     float64\n",
       "PetalLengthCm    float64\n",
       "PetalWidthCm     float64\n",
       "Species           object\n",
       "dtype: object"
      ]
     },
     "execution_count": 9,
     "metadata": {},
     "output_type": "execute_result"
    }
   ],
   "source": [
    "df.dtypes"
   ]
  },
  {
   "cell_type": "code",
   "execution_count": 10,
   "id": "dedee2a9",
   "metadata": {},
   "outputs": [
    {
     "data": {
      "text/html": [
       "<div>\n",
       "<style scoped>\n",
       "    .dataframe tbody tr th:only-of-type {\n",
       "        vertical-align: middle;\n",
       "    }\n",
       "\n",
       "    .dataframe tbody tr th {\n",
       "        vertical-align: top;\n",
       "    }\n",
       "\n",
       "    .dataframe thead th {\n",
       "        text-align: right;\n",
       "    }\n",
       "</style>\n",
       "<table border=\"1\" class=\"dataframe\">\n",
       "  <thead>\n",
       "    <tr style=\"text-align: right;\">\n",
       "      <th></th>\n",
       "      <th>Id</th>\n",
       "      <th>SepalLengthCm</th>\n",
       "      <th>SepalWidthCm</th>\n",
       "      <th>PetalLengthCm</th>\n",
       "      <th>PetalWidthCm</th>\n",
       "      <th>Species</th>\n",
       "    </tr>\n",
       "  </thead>\n",
       "  <tbody>\n",
       "    <tr>\n",
       "      <th>0</th>\n",
       "      <td>1</td>\n",
       "      <td>5.1</td>\n",
       "      <td>3.5</td>\n",
       "      <td>1.4</td>\n",
       "      <td>0.2</td>\n",
       "      <td>Iris-setosa</td>\n",
       "    </tr>\n",
       "    <tr>\n",
       "      <th>1</th>\n",
       "      <td>2</td>\n",
       "      <td>4.9</td>\n",
       "      <td>3.0</td>\n",
       "      <td>1.4</td>\n",
       "      <td>0.2</td>\n",
       "      <td>Iris-setosa</td>\n",
       "    </tr>\n",
       "    <tr>\n",
       "      <th>2</th>\n",
       "      <td>3</td>\n",
       "      <td>4.7</td>\n",
       "      <td>3.2</td>\n",
       "      <td>1.3</td>\n",
       "      <td>0.2</td>\n",
       "      <td>Iris-setosa</td>\n",
       "    </tr>\n",
       "    <tr>\n",
       "      <th>3</th>\n",
       "      <td>4</td>\n",
       "      <td>4.6</td>\n",
       "      <td>3.1</td>\n",
       "      <td>1.5</td>\n",
       "      <td>0.2</td>\n",
       "      <td>Iris-setosa</td>\n",
       "    </tr>\n",
       "    <tr>\n",
       "      <th>4</th>\n",
       "      <td>5</td>\n",
       "      <td>5.0</td>\n",
       "      <td>3.6</td>\n",
       "      <td>1.4</td>\n",
       "      <td>0.2</td>\n",
       "      <td>Iris-setosa</td>\n",
       "    </tr>\n",
       "  </tbody>\n",
       "</table>\n",
       "</div>"
      ],
      "text/plain": [
       "   Id  SepalLengthCm  SepalWidthCm  PetalLengthCm  PetalWidthCm      Species\n",
       "0   1            5.1           3.5            1.4           0.2  Iris-setosa\n",
       "1   2            4.9           3.0            1.4           0.2  Iris-setosa\n",
       "2   3            4.7           3.2            1.3           0.2  Iris-setosa\n",
       "3   4            4.6           3.1            1.5           0.2  Iris-setosa\n",
       "4   5            5.0           3.6            1.4           0.2  Iris-setosa"
      ]
     },
     "execution_count": 10,
     "metadata": {},
     "output_type": "execute_result"
    }
   ],
   "source": [
    "ds=df.copy()\n",
    "ds.head()"
   ]
  },
  {
   "cell_type": "markdown",
   "id": "63dbabde",
   "metadata": {},
   "source": [
    "### Encode the Species column"
   ]
  },
  {
   "cell_type": "code",
   "execution_count": 22,
   "id": "42cd3c02",
   "metadata": {},
   "outputs": [
    {
     "data": {
      "text/html": [
       "<div>\n",
       "<style scoped>\n",
       "    .dataframe tbody tr th:only-of-type {\n",
       "        vertical-align: middle;\n",
       "    }\n",
       "\n",
       "    .dataframe tbody tr th {\n",
       "        vertical-align: top;\n",
       "    }\n",
       "\n",
       "    .dataframe thead th {\n",
       "        text-align: right;\n",
       "    }\n",
       "</style>\n",
       "<table border=\"1\" class=\"dataframe\">\n",
       "  <thead>\n",
       "    <tr style=\"text-align: right;\">\n",
       "      <th></th>\n",
       "      <th>Id</th>\n",
       "      <th>SepalLengthCm</th>\n",
       "      <th>SepalWidthCm</th>\n",
       "      <th>PetalLengthCm</th>\n",
       "      <th>PetalWidthCm</th>\n",
       "      <th>Species</th>\n",
       "    </tr>\n",
       "  </thead>\n",
       "  <tbody>\n",
       "    <tr>\n",
       "      <th>145</th>\n",
       "      <td>146</td>\n",
       "      <td>6.7</td>\n",
       "      <td>3.0</td>\n",
       "      <td>5.2</td>\n",
       "      <td>2.3</td>\n",
       "      <td>2</td>\n",
       "    </tr>\n",
       "    <tr>\n",
       "      <th>146</th>\n",
       "      <td>147</td>\n",
       "      <td>6.3</td>\n",
       "      <td>2.5</td>\n",
       "      <td>5.0</td>\n",
       "      <td>1.9</td>\n",
       "      <td>2</td>\n",
       "    </tr>\n",
       "    <tr>\n",
       "      <th>147</th>\n",
       "      <td>148</td>\n",
       "      <td>6.5</td>\n",
       "      <td>3.0</td>\n",
       "      <td>5.2</td>\n",
       "      <td>2.0</td>\n",
       "      <td>2</td>\n",
       "    </tr>\n",
       "    <tr>\n",
       "      <th>148</th>\n",
       "      <td>149</td>\n",
       "      <td>6.2</td>\n",
       "      <td>3.4</td>\n",
       "      <td>5.4</td>\n",
       "      <td>2.3</td>\n",
       "      <td>2</td>\n",
       "    </tr>\n",
       "    <tr>\n",
       "      <th>149</th>\n",
       "      <td>150</td>\n",
       "      <td>5.9</td>\n",
       "      <td>3.0</td>\n",
       "      <td>5.1</td>\n",
       "      <td>1.8</td>\n",
       "      <td>2</td>\n",
       "    </tr>\n",
       "  </tbody>\n",
       "</table>\n",
       "</div>"
      ],
      "text/plain": [
       "      Id  SepalLengthCm  SepalWidthCm  PetalLengthCm  PetalWidthCm  Species\n",
       "145  146            6.7           3.0            5.2           2.3        2\n",
       "146  147            6.3           2.5            5.0           1.9        2\n",
       "147  148            6.5           3.0            5.2           2.0        2\n",
       "148  149            6.2           3.4            5.4           2.3        2\n",
       "149  150            5.9           3.0            5.1           1.8        2"
      ]
     },
     "execution_count": 22,
     "metadata": {},
     "output_type": "execute_result"
    }
   ],
   "source": [
    "from sklearn.preprocessing import LabelEncoder\n",
    "le=LabelEncoder()\n",
    "ds['Species']=le.fit_transform(ds['Species'])\n",
    "ds.tail()"
   ]
  },
  {
   "cell_type": "markdown",
   "id": "354d8cfe",
   "metadata": {},
   "source": [
    "### spliting the dependent and independent variables"
   ]
  },
  {
   "cell_type": "code",
   "execution_count": 25,
   "id": "82941e80",
   "metadata": {},
   "outputs": [],
   "source": [
    "x=ds.iloc[:,:5].values\n",
    "y=ds.iloc[:,5].values"
   ]
  },
  {
   "cell_type": "code",
   "execution_count": 27,
   "id": "a5372418",
   "metadata": {},
   "outputs": [
    {
     "data": {
      "text/plain": [
       "array([[1.00e+00, 5.10e+00, 3.50e+00, 1.40e+00, 2.00e-01],\n",
       "       [2.00e+00, 4.90e+00, 3.00e+00, 1.40e+00, 2.00e-01],\n",
       "       [3.00e+00, 4.70e+00, 3.20e+00, 1.30e+00, 2.00e-01],\n",
       "       [4.00e+00, 4.60e+00, 3.10e+00, 1.50e+00, 2.00e-01],\n",
       "       [5.00e+00, 5.00e+00, 3.60e+00, 1.40e+00, 2.00e-01],\n",
       "       [6.00e+00, 5.40e+00, 3.90e+00, 1.70e+00, 4.00e-01],\n",
       "       [7.00e+00, 4.60e+00, 3.40e+00, 1.40e+00, 3.00e-01],\n",
       "       [8.00e+00, 5.00e+00, 3.40e+00, 1.50e+00, 2.00e-01],\n",
       "       [9.00e+00, 4.40e+00, 2.90e+00, 1.40e+00, 2.00e-01],\n",
       "       [1.00e+01, 4.90e+00, 3.10e+00, 1.50e+00, 1.00e-01],\n",
       "       [1.10e+01, 5.40e+00, 3.70e+00, 1.50e+00, 2.00e-01],\n",
       "       [1.20e+01, 4.80e+00, 3.40e+00, 1.60e+00, 2.00e-01],\n",
       "       [1.30e+01, 4.80e+00, 3.00e+00, 1.40e+00, 1.00e-01],\n",
       "       [1.40e+01, 4.30e+00, 3.00e+00, 1.10e+00, 1.00e-01],\n",
       "       [1.50e+01, 5.80e+00, 4.00e+00, 1.20e+00, 2.00e-01],\n",
       "       [1.60e+01, 5.70e+00, 4.40e+00, 1.50e+00, 4.00e-01],\n",
       "       [1.70e+01, 5.40e+00, 3.90e+00, 1.30e+00, 4.00e-01],\n",
       "       [1.80e+01, 5.10e+00, 3.50e+00, 1.40e+00, 3.00e-01],\n",
       "       [1.90e+01, 5.70e+00, 3.80e+00, 1.70e+00, 3.00e-01],\n",
       "       [2.00e+01, 5.10e+00, 3.80e+00, 1.50e+00, 3.00e-01],\n",
       "       [2.10e+01, 5.40e+00, 3.40e+00, 1.70e+00, 2.00e-01],\n",
       "       [2.20e+01, 5.10e+00, 3.70e+00, 1.50e+00, 4.00e-01],\n",
       "       [2.30e+01, 4.60e+00, 3.60e+00, 1.00e+00, 2.00e-01],\n",
       "       [2.40e+01, 5.10e+00, 3.30e+00, 1.70e+00, 5.00e-01],\n",
       "       [2.50e+01, 4.80e+00, 3.40e+00, 1.90e+00, 2.00e-01],\n",
       "       [2.60e+01, 5.00e+00, 3.00e+00, 1.60e+00, 2.00e-01],\n",
       "       [2.70e+01, 5.00e+00, 3.40e+00, 1.60e+00, 4.00e-01],\n",
       "       [2.80e+01, 5.20e+00, 3.50e+00, 1.50e+00, 2.00e-01],\n",
       "       [2.90e+01, 5.20e+00, 3.40e+00, 1.40e+00, 2.00e-01],\n",
       "       [3.00e+01, 4.70e+00, 3.20e+00, 1.60e+00, 2.00e-01],\n",
       "       [3.10e+01, 4.80e+00, 3.10e+00, 1.60e+00, 2.00e-01],\n",
       "       [3.20e+01, 5.40e+00, 3.40e+00, 1.50e+00, 4.00e-01],\n",
       "       [3.30e+01, 5.20e+00, 4.10e+00, 1.50e+00, 1.00e-01],\n",
       "       [3.40e+01, 5.50e+00, 4.20e+00, 1.40e+00, 2.00e-01],\n",
       "       [3.50e+01, 4.90e+00, 3.10e+00, 1.50e+00, 1.00e-01],\n",
       "       [3.60e+01, 5.00e+00, 3.20e+00, 1.20e+00, 2.00e-01],\n",
       "       [3.70e+01, 5.50e+00, 3.50e+00, 1.30e+00, 2.00e-01],\n",
       "       [3.80e+01, 4.90e+00, 3.10e+00, 1.50e+00, 1.00e-01],\n",
       "       [3.90e+01, 4.40e+00, 3.00e+00, 1.30e+00, 2.00e-01],\n",
       "       [4.00e+01, 5.10e+00, 3.40e+00, 1.50e+00, 2.00e-01],\n",
       "       [4.10e+01, 5.00e+00, 3.50e+00, 1.30e+00, 3.00e-01],\n",
       "       [4.20e+01, 4.50e+00, 2.30e+00, 1.30e+00, 3.00e-01],\n",
       "       [4.30e+01, 4.40e+00, 3.20e+00, 1.30e+00, 2.00e-01],\n",
       "       [4.40e+01, 5.00e+00, 3.50e+00, 1.60e+00, 6.00e-01],\n",
       "       [4.50e+01, 5.10e+00, 3.80e+00, 1.90e+00, 4.00e-01],\n",
       "       [4.60e+01, 4.80e+00, 3.00e+00, 1.40e+00, 3.00e-01],\n",
       "       [4.70e+01, 5.10e+00, 3.80e+00, 1.60e+00, 2.00e-01],\n",
       "       [4.80e+01, 4.60e+00, 3.20e+00, 1.40e+00, 2.00e-01],\n",
       "       [4.90e+01, 5.30e+00, 3.70e+00, 1.50e+00, 2.00e-01],\n",
       "       [5.00e+01, 5.00e+00, 3.30e+00, 1.40e+00, 2.00e-01],\n",
       "       [5.10e+01, 7.00e+00, 3.20e+00, 4.70e+00, 1.40e+00],\n",
       "       [5.20e+01, 6.40e+00, 3.20e+00, 4.50e+00, 1.50e+00],\n",
       "       [5.30e+01, 6.90e+00, 3.10e+00, 4.90e+00, 1.50e+00],\n",
       "       [5.40e+01, 5.50e+00, 2.30e+00, 4.00e+00, 1.30e+00],\n",
       "       [5.50e+01, 6.50e+00, 2.80e+00, 4.60e+00, 1.50e+00],\n",
       "       [5.60e+01, 5.70e+00, 2.80e+00, 4.50e+00, 1.30e+00],\n",
       "       [5.70e+01, 6.30e+00, 3.30e+00, 4.70e+00, 1.60e+00],\n",
       "       [5.80e+01, 4.90e+00, 2.40e+00, 3.30e+00, 1.00e+00],\n",
       "       [5.90e+01, 6.60e+00, 2.90e+00, 4.60e+00, 1.30e+00],\n",
       "       [6.00e+01, 5.20e+00, 2.70e+00, 3.90e+00, 1.40e+00],\n",
       "       [6.10e+01, 5.00e+00, 2.00e+00, 3.50e+00, 1.00e+00],\n",
       "       [6.20e+01, 5.90e+00, 3.00e+00, 4.20e+00, 1.50e+00],\n",
       "       [6.30e+01, 6.00e+00, 2.20e+00, 4.00e+00, 1.00e+00],\n",
       "       [6.40e+01, 6.10e+00, 2.90e+00, 4.70e+00, 1.40e+00],\n",
       "       [6.50e+01, 5.60e+00, 2.90e+00, 3.60e+00, 1.30e+00],\n",
       "       [6.60e+01, 6.70e+00, 3.10e+00, 4.40e+00, 1.40e+00],\n",
       "       [6.70e+01, 5.60e+00, 3.00e+00, 4.50e+00, 1.50e+00],\n",
       "       [6.80e+01, 5.80e+00, 2.70e+00, 4.10e+00, 1.00e+00],\n",
       "       [6.90e+01, 6.20e+00, 2.20e+00, 4.50e+00, 1.50e+00],\n",
       "       [7.00e+01, 5.60e+00, 2.50e+00, 3.90e+00, 1.10e+00],\n",
       "       [7.10e+01, 5.90e+00, 3.20e+00, 4.80e+00, 1.80e+00],\n",
       "       [7.20e+01, 6.10e+00, 2.80e+00, 4.00e+00, 1.30e+00],\n",
       "       [7.30e+01, 6.30e+00, 2.50e+00, 4.90e+00, 1.50e+00],\n",
       "       [7.40e+01, 6.10e+00, 2.80e+00, 4.70e+00, 1.20e+00],\n",
       "       [7.50e+01, 6.40e+00, 2.90e+00, 4.30e+00, 1.30e+00],\n",
       "       [7.60e+01, 6.60e+00, 3.00e+00, 4.40e+00, 1.40e+00],\n",
       "       [7.70e+01, 6.80e+00, 2.80e+00, 4.80e+00, 1.40e+00],\n",
       "       [7.80e+01, 6.70e+00, 3.00e+00, 5.00e+00, 1.70e+00],\n",
       "       [7.90e+01, 6.00e+00, 2.90e+00, 4.50e+00, 1.50e+00],\n",
       "       [8.00e+01, 5.70e+00, 2.60e+00, 3.50e+00, 1.00e+00],\n",
       "       [8.10e+01, 5.50e+00, 2.40e+00, 3.80e+00, 1.10e+00],\n",
       "       [8.20e+01, 5.50e+00, 2.40e+00, 3.70e+00, 1.00e+00],\n",
       "       [8.30e+01, 5.80e+00, 2.70e+00, 3.90e+00, 1.20e+00],\n",
       "       [8.40e+01, 6.00e+00, 2.70e+00, 5.10e+00, 1.60e+00],\n",
       "       [8.50e+01, 5.40e+00, 3.00e+00, 4.50e+00, 1.50e+00],\n",
       "       [8.60e+01, 6.00e+00, 3.40e+00, 4.50e+00, 1.60e+00],\n",
       "       [8.70e+01, 6.70e+00, 3.10e+00, 4.70e+00, 1.50e+00],\n",
       "       [8.80e+01, 6.30e+00, 2.30e+00, 4.40e+00, 1.30e+00],\n",
       "       [8.90e+01, 5.60e+00, 3.00e+00, 4.10e+00, 1.30e+00],\n",
       "       [9.00e+01, 5.50e+00, 2.50e+00, 4.00e+00, 1.30e+00],\n",
       "       [9.10e+01, 5.50e+00, 2.60e+00, 4.40e+00, 1.20e+00],\n",
       "       [9.20e+01, 6.10e+00, 3.00e+00, 4.60e+00, 1.40e+00],\n",
       "       [9.30e+01, 5.80e+00, 2.60e+00, 4.00e+00, 1.20e+00],\n",
       "       [9.40e+01, 5.00e+00, 2.30e+00, 3.30e+00, 1.00e+00],\n",
       "       [9.50e+01, 5.60e+00, 2.70e+00, 4.20e+00, 1.30e+00],\n",
       "       [9.60e+01, 5.70e+00, 3.00e+00, 4.20e+00, 1.20e+00],\n",
       "       [9.70e+01, 5.70e+00, 2.90e+00, 4.20e+00, 1.30e+00],\n",
       "       [9.80e+01, 6.20e+00, 2.90e+00, 4.30e+00, 1.30e+00],\n",
       "       [9.90e+01, 5.10e+00, 2.50e+00, 3.00e+00, 1.10e+00],\n",
       "       [1.00e+02, 5.70e+00, 2.80e+00, 4.10e+00, 1.30e+00],\n",
       "       [1.01e+02, 6.30e+00, 3.30e+00, 6.00e+00, 2.50e+00],\n",
       "       [1.02e+02, 5.80e+00, 2.70e+00, 5.10e+00, 1.90e+00],\n",
       "       [1.03e+02, 7.10e+00, 3.00e+00, 5.90e+00, 2.10e+00],\n",
       "       [1.04e+02, 6.30e+00, 2.90e+00, 5.60e+00, 1.80e+00],\n",
       "       [1.05e+02, 6.50e+00, 3.00e+00, 5.80e+00, 2.20e+00],\n",
       "       [1.06e+02, 7.60e+00, 3.00e+00, 6.60e+00, 2.10e+00],\n",
       "       [1.07e+02, 4.90e+00, 2.50e+00, 4.50e+00, 1.70e+00],\n",
       "       [1.08e+02, 7.30e+00, 2.90e+00, 6.30e+00, 1.80e+00],\n",
       "       [1.09e+02, 6.70e+00, 2.50e+00, 5.80e+00, 1.80e+00],\n",
       "       [1.10e+02, 7.20e+00, 3.60e+00, 6.10e+00, 2.50e+00],\n",
       "       [1.11e+02, 6.50e+00, 3.20e+00, 5.10e+00, 2.00e+00],\n",
       "       [1.12e+02, 6.40e+00, 2.70e+00, 5.30e+00, 1.90e+00],\n",
       "       [1.13e+02, 6.80e+00, 3.00e+00, 5.50e+00, 2.10e+00],\n",
       "       [1.14e+02, 5.70e+00, 2.50e+00, 5.00e+00, 2.00e+00],\n",
       "       [1.15e+02, 5.80e+00, 2.80e+00, 5.10e+00, 2.40e+00],\n",
       "       [1.16e+02, 6.40e+00, 3.20e+00, 5.30e+00, 2.30e+00],\n",
       "       [1.17e+02, 6.50e+00, 3.00e+00, 5.50e+00, 1.80e+00],\n",
       "       [1.18e+02, 7.70e+00, 3.80e+00, 6.70e+00, 2.20e+00],\n",
       "       [1.19e+02, 7.70e+00, 2.60e+00, 6.90e+00, 2.30e+00],\n",
       "       [1.20e+02, 6.00e+00, 2.20e+00, 5.00e+00, 1.50e+00],\n",
       "       [1.21e+02, 6.90e+00, 3.20e+00, 5.70e+00, 2.30e+00],\n",
       "       [1.22e+02, 5.60e+00, 2.80e+00, 4.90e+00, 2.00e+00],\n",
       "       [1.23e+02, 7.70e+00, 2.80e+00, 6.70e+00, 2.00e+00],\n",
       "       [1.24e+02, 6.30e+00, 2.70e+00, 4.90e+00, 1.80e+00],\n",
       "       [1.25e+02, 6.70e+00, 3.30e+00, 5.70e+00, 2.10e+00],\n",
       "       [1.26e+02, 7.20e+00, 3.20e+00, 6.00e+00, 1.80e+00],\n",
       "       [1.27e+02, 6.20e+00, 2.80e+00, 4.80e+00, 1.80e+00],\n",
       "       [1.28e+02, 6.10e+00, 3.00e+00, 4.90e+00, 1.80e+00],\n",
       "       [1.29e+02, 6.40e+00, 2.80e+00, 5.60e+00, 2.10e+00],\n",
       "       [1.30e+02, 7.20e+00, 3.00e+00, 5.80e+00, 1.60e+00],\n",
       "       [1.31e+02, 7.40e+00, 2.80e+00, 6.10e+00, 1.90e+00],\n",
       "       [1.32e+02, 7.90e+00, 3.80e+00, 6.40e+00, 2.00e+00],\n",
       "       [1.33e+02, 6.40e+00, 2.80e+00, 5.60e+00, 2.20e+00],\n",
       "       [1.34e+02, 6.30e+00, 2.80e+00, 5.10e+00, 1.50e+00],\n",
       "       [1.35e+02, 6.10e+00, 2.60e+00, 5.60e+00, 1.40e+00],\n",
       "       [1.36e+02, 7.70e+00, 3.00e+00, 6.10e+00, 2.30e+00],\n",
       "       [1.37e+02, 6.30e+00, 3.40e+00, 5.60e+00, 2.40e+00],\n",
       "       [1.38e+02, 6.40e+00, 3.10e+00, 5.50e+00, 1.80e+00],\n",
       "       [1.39e+02, 6.00e+00, 3.00e+00, 4.80e+00, 1.80e+00],\n",
       "       [1.40e+02, 6.90e+00, 3.10e+00, 5.40e+00, 2.10e+00],\n",
       "       [1.41e+02, 6.70e+00, 3.10e+00, 5.60e+00, 2.40e+00],\n",
       "       [1.42e+02, 6.90e+00, 3.10e+00, 5.10e+00, 2.30e+00],\n",
       "       [1.43e+02, 5.80e+00, 2.70e+00, 5.10e+00, 1.90e+00],\n",
       "       [1.44e+02, 6.80e+00, 3.20e+00, 5.90e+00, 2.30e+00],\n",
       "       [1.45e+02, 6.70e+00, 3.30e+00, 5.70e+00, 2.50e+00],\n",
       "       [1.46e+02, 6.70e+00, 3.00e+00, 5.20e+00, 2.30e+00],\n",
       "       [1.47e+02, 6.30e+00, 2.50e+00, 5.00e+00, 1.90e+00],\n",
       "       [1.48e+02, 6.50e+00, 3.00e+00, 5.20e+00, 2.00e+00],\n",
       "       [1.49e+02, 6.20e+00, 3.40e+00, 5.40e+00, 2.30e+00],\n",
       "       [1.50e+02, 5.90e+00, 3.00e+00, 5.10e+00, 1.80e+00]])"
      ]
     },
     "execution_count": 27,
     "metadata": {},
     "output_type": "execute_result"
    }
   ],
   "source": [
    "x"
   ]
  },
  {
   "cell_type": "code",
   "execution_count": 28,
   "id": "0342cc49",
   "metadata": {},
   "outputs": [
    {
     "data": {
      "text/plain": [
       "array([0, 0, 0, 0, 0, 0, 0, 0, 0, 0, 0, 0, 0, 0, 0, 0, 0, 0, 0, 0, 0, 0,\n",
       "       0, 0, 0, 0, 0, 0, 0, 0, 0, 0, 0, 0, 0, 0, 0, 0, 0, 0, 0, 0, 0, 0,\n",
       "       0, 0, 0, 0, 0, 0, 1, 1, 1, 1, 1, 1, 1, 1, 1, 1, 1, 1, 1, 1, 1, 1,\n",
       "       1, 1, 1, 1, 1, 1, 1, 1, 1, 1, 1, 1, 1, 1, 1, 1, 1, 1, 1, 1, 1, 1,\n",
       "       1, 1, 1, 1, 1, 1, 1, 1, 1, 1, 1, 1, 2, 2, 2, 2, 2, 2, 2, 2, 2, 2,\n",
       "       2, 2, 2, 2, 2, 2, 2, 2, 2, 2, 2, 2, 2, 2, 2, 2, 2, 2, 2, 2, 2, 2,\n",
       "       2, 2, 2, 2, 2, 2, 2, 2, 2, 2, 2, 2, 2, 2, 2, 2, 2, 2], dtype=int64)"
      ]
     },
     "execution_count": 28,
     "metadata": {},
     "output_type": "execute_result"
    }
   ],
   "source": [
    "y"
   ]
  },
  {
   "cell_type": "markdown",
   "id": "552c9c85",
   "metadata": {},
   "source": [
    "### Spliting the dataset into training set and test set"
   ]
  },
  {
   "cell_type": "code",
   "execution_count": 30,
   "id": "7ea570fd",
   "metadata": {},
   "outputs": [],
   "source": [
    "from sklearn.model_selection import train_test_split\n",
    "x_train,x_test,y_train,y_test=train_test_split(x,y,test_size=0.25,random_state=0)"
   ]
  },
  {
   "cell_type": "markdown",
   "id": "fd7deb4e",
   "metadata": {},
   "source": [
    "### Training the decision tree clssification model on the training set"
   ]
  },
  {
   "cell_type": "code",
   "execution_count": 33,
   "id": "84afb8d2",
   "metadata": {},
   "outputs": [
    {
     "data": {
      "text/plain": [
       "DecisionTreeClassifier()"
      ]
     },
     "execution_count": 33,
     "metadata": {},
     "output_type": "execute_result"
    }
   ],
   "source": [
    "from sklearn.tree import DecisionTreeClassifier\n",
    "dtree=DecisionTreeClassifier()\n",
    "dtree.fit(x_train,y_train)\n"
   ]
  },
  {
   "cell_type": "markdown",
   "id": "847cbd97",
   "metadata": {},
   "source": [
    "### predicting the test set result"
   ]
  },
  {
   "cell_type": "code",
   "execution_count": 36,
   "id": "45456aae",
   "metadata": {},
   "outputs": [
    {
     "data": {
      "text/plain": [
       "array([2, 1, 0, 2, 0, 1, 0, 1, 1, 1, 2, 1, 1, 1, 1, 0, 1, 1, 0, 0, 2, 1,\n",
       "       0, 0, 2, 0, 0, 1, 1, 0, 2, 1, 0, 2, 2, 1, 0, 1], dtype=int64)"
      ]
     },
     "execution_count": 36,
     "metadata": {},
     "output_type": "execute_result"
    }
   ],
   "source": [
    "y_pred=dtree.predict(x_test)\n",
    "y_pred"
   ]
  },
  {
   "cell_type": "markdown",
   "id": "a5b920f6",
   "metadata": {},
   "source": [
    "### Compare the prediction values and original values"
   ]
  },
  {
   "cell_type": "code",
   "execution_count": 37,
   "id": "8b03412c",
   "metadata": {},
   "outputs": [
    {
     "data": {
      "text/plain": [
       "array([[2, 2],\n",
       "       [1, 1],\n",
       "       [0, 0],\n",
       "       [2, 2],\n",
       "       [0, 0],\n",
       "       [1, 2],\n",
       "       [0, 0],\n",
       "       [1, 1],\n",
       "       [1, 1],\n",
       "       [1, 1],\n",
       "       [2, 2],\n",
       "       [1, 1],\n",
       "       [1, 1],\n",
       "       [1, 1],\n",
       "       [1, 1],\n",
       "       [0, 0],\n",
       "       [1, 1],\n",
       "       [1, 1],\n",
       "       [0, 0],\n",
       "       [0, 0],\n",
       "       [2, 2],\n",
       "       [1, 1],\n",
       "       [0, 0],\n",
       "       [0, 0],\n",
       "       [2, 2],\n",
       "       [0, 0],\n",
       "       [0, 0],\n",
       "       [1, 1],\n",
       "       [1, 1],\n",
       "       [0, 0],\n",
       "       [2, 2],\n",
       "       [1, 1],\n",
       "       [0, 0],\n",
       "       [2, 2],\n",
       "       [2, 2],\n",
       "       [1, 1],\n",
       "       [0, 0],\n",
       "       [1, 1]], dtype=int64)"
      ]
     },
     "execution_count": 37,
     "metadata": {},
     "output_type": "execute_result"
    }
   ],
   "source": [
    "np.concatenate((y_pred.reshape(len(y_pred),1), y_test.reshape(len(y_test),1)),1)"
   ]
  },
  {
   "cell_type": "markdown",
   "id": "c1b61dd8",
   "metadata": {},
   "source": [
    "### Making the confusion matrix"
   ]
  },
  {
   "cell_type": "code",
   "execution_count": 38,
   "id": "6317d18f",
   "metadata": {},
   "outputs": [
    {
     "name": "stdout",
     "output_type": "stream",
     "text": [
      "[[13  0  0]\n",
      " [ 0 16  0]\n",
      " [ 0  1  8]]\n"
     ]
    },
    {
     "data": {
      "text/plain": [
       "0.9736842105263158"
      ]
     },
     "execution_count": 38,
     "metadata": {},
     "output_type": "execute_result"
    }
   ],
   "source": [
    "from sklearn.metrics import confusion_matrix, accuracy_score\n",
    "cm = confusion_matrix(y_test, y_pred)\n",
    "print(cm)\n",
    "accuracy_score(y_test, y_pred)"
   ]
  },
  {
   "cell_type": "markdown",
   "id": "60900650",
   "metadata": {},
   "source": [
    "# ----------------------------------------End Of Code---------------------------------------------"
   ]
  }
 ],
 "metadata": {
  "kernelspec": {
   "display_name": "Python 3 (ipykernel)",
   "language": "python",
   "name": "python3"
  },
  "language_info": {
   "codemirror_mode": {
    "name": "ipython",
    "version": 3
   },
   "file_extension": ".py",
   "mimetype": "text/x-python",
   "name": "python",
   "nbconvert_exporter": "python",
   "pygments_lexer": "ipython3",
   "version": "3.7.5"
  }
 },
 "nbformat": 4,
 "nbformat_minor": 5
}
